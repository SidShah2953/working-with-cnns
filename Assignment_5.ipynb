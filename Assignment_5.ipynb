{
  "nbformat": 4,
  "nbformat_minor": 0,
  "metadata": {
    "colab": {
      "provenance": [],
      "toc_visible": true,
      "gpuType": "T4"
    },
    "kernelspec": {
      "name": "python3",
      "display_name": "Python 3"
    },
    "language_info": {
      "name": "python"
    },
    "accelerator": "GPU"
  },
  "cells": [
    {
      "cell_type": "markdown",
      "source": [
        "# Tasks\n",
        "## Due 16 April, 2024\n",
        "1. Transfer Learning for image data using CNN\n",
        "  - [x] Download about 100 images of ducks and 100 images of chickens from the internet\n",
        "    Source: <https://www.kaggle.com/datasets/alessiocorrado99/animals10>\n",
        "  - [x] In a google colab notebook, fine-tune a pre-trained convolutional neural network to classify duck vs chicken and output the classification report\n",
        "\n",
        "2. Transfer Learning for text data using Transformer\n",
        "  - [x] Download the sentiment analysis dataset from <https://www.kaggle.com/datasets/abhi8923shriv/sentiment-analysis-dataset>\n",
        "  - [ ]  Build a sentiment analysis classifier to classify the sentiment into positive, neutral, and negative by fine-tuning a pre-trained transformer model and print your classification report\n",
        "\n",
        "## References\n",
        "1. <https://www.analyticsvidhya.com/blog/2021/07/step-by-step-guide-for-image-classification-on-custom-datasets/>\n",
        "2. <https://pytorch.org/tutorials/beginner/transfer_learning_tutorial.html>\n",
        "3. <https://alvinntnu.github.io/NTNU_ENC2045_LECTURES/temp/sentiment-analysis-using-bert-keras-movie-reviews.html>\n",
        "4. <https://www.analyticsvidhya.com/blog/2020/07/transfer-learning-for-nlp-fine-tuning-bert-for-text-classification/>"
      ],
      "metadata": {
        "id": "tqCE5UAzY_dJ"
      }
    },
    {
      "cell_type": "markdown",
      "source": [
        "# Image Data & CNNs"
      ],
      "metadata": {
        "id": "k7B2HeqQU5mm"
      }
    },
    {
      "cell_type": "code",
      "source": [
        "from tensorflow.keras.layers import Input, Lambda, Dense, Flatten,Dropout\n",
        "from tensorflow.keras.models import Model\n",
        "from tensorflow.keras.applications.vgg19 import VGG19\n",
        "from tensorflow.keras.applications.vgg19 import preprocess_input\n",
        "from tensorflow.keras.preprocessing import image\n",
        "from tensorflow.keras.preprocessing.image import ImageDataGenerator\n",
        "from tensorflow.keras.models import Sequential\n",
        "import numpy as np\n",
        "import pandas as pd\n",
        "import os\n",
        "import cv2\n",
        "import matplotlib.pyplot as plt\n",
        "from sklearn.metrics import accuracy_score, classification_report, confusion_matrix"
      ],
      "metadata": {
        "id": "9YubqvOKZw-l"
      },
      "execution_count": null,
      "outputs": []
    },
    {
      "cell_type": "code",
      "source": [
        "IMAGE_SIZE = (224, 224)"
      ],
      "metadata": {
        "id": "vM86n4_mK60C"
      },
      "execution_count": null,
      "outputs": []
    },
    {
      "cell_type": "code",
      "source": [
        "def load_data(path:str):\n",
        "  x = []\n",
        "  for folder in os.listdir(path):\n",
        "      dataset_path = path + \"/\" + folder\n",
        "      for img in os.listdir(dataset_path):\n",
        "          img_arr = cv2.imread(dataset_path + \"/\" + img)\n",
        "          img_arr=cv2.resize(img_arr,(224,224))\n",
        "          x.append(img_arr)\n",
        "\n",
        "  x = np.array(x)\n",
        "  x = x / 255.0\n",
        "\n",
        "  datagen = ImageDataGenerator(rescale = 1./255)\n",
        "\n",
        "  dataset = datagen.flow_from_directory(path,\n",
        "                                        target_size=IMAGE_SIZE,\n",
        "                                        batch_size= 15,\n",
        "                                        class_mode='sparse')\n",
        "\n",
        "  y = dataset.classes\n",
        "\n",
        "  return x, y"
      ],
      "metadata": {
        "id": "_Y5x2BkcImSd"
      },
      "execution_count": null,
      "outputs": []
    },
    {
      "cell_type": "code",
      "source": [
        "active_dir = \"/content/drive/MyDrive/AML - Applied Machine Learning 2024/Cats & Chickens/\"\n",
        "\n",
        "train_path = active_dir + \"train\"\n",
        "test_path = active_dir + \"test\"\n",
        "val_path = active_dir + \"val\"\n",
        "\n",
        "x_train, y_train = load_data(train_path)\n",
        "x_test, y_test = load_data(test_path)\n",
        "x_val, y_val = load_data(val_path)"
      ],
      "metadata": {
        "id": "3LPMy1Urx09x",
        "colab": {
          "base_uri": "https://localhost:8080/"
        },
        "outputId": "98032c76-794f-4e40-b2fb-612274a9b4e8"
      },
      "execution_count": null,
      "outputs": [
        {
          "output_type": "stream",
          "name": "stdout",
          "text": [
            "Found 300 images belonging to 2 classes.\n",
            "Found 33 images belonging to 2 classes.\n",
            "Found 40 images belonging to 2 classes.\n"
          ]
        }
      ]
    },
    {
      "cell_type": "code",
      "source": [
        "vgg = VGG19(input_shape=list(IMAGE_SIZE) + [3],\n",
        "            weights='imagenet',\n",
        "            include_top=False)\n",
        "#do not train the pre-trained layers of VGG-19\n",
        "for layer in vgg.layers:\n",
        "    layer.trainable = False"
      ],
      "metadata": {
        "id": "tZm62cDQKpb7"
      },
      "execution_count": null,
      "outputs": []
    },
    {
      "cell_type": "code",
      "source": [
        "x = Flatten()(vgg.output)\n",
        "#adding output layer.Softmax classifier is used as it is multi-class classification\n",
        "prediction = Dense(2,\n",
        "                   activation='sigmoid')(x)\n",
        "\n",
        "model = Model(inputs=vgg.input,\n",
        "              outputs=prediction)"
      ],
      "metadata": {
        "id": "btWHgNFMLDLY"
      },
      "execution_count": null,
      "outputs": []
    },
    {
      "cell_type": "code",
      "source": [
        "# view the structure of the model\n",
        "model.summary()"
      ],
      "metadata": {
        "colab": {
          "base_uri": "https://localhost:8080/"
        },
        "id": "XwDso-wILFWW",
        "outputId": "b6bc2004-235d-4413-e8c1-8f23f904b17e"
      },
      "execution_count": null,
      "outputs": [
        {
          "output_type": "stream",
          "name": "stdout",
          "text": [
            "Model: \"model_1\"\n",
            "_________________________________________________________________\n",
            " Layer (type)                Output Shape              Param #   \n",
            "=================================================================\n",
            " input_2 (InputLayer)        [(None, 224, 224, 3)]     0         \n",
            "                                                                 \n",
            " block1_conv1 (Conv2D)       (None, 224, 224, 64)      1792      \n",
            "                                                                 \n",
            " block1_conv2 (Conv2D)       (None, 224, 224, 64)      36928     \n",
            "                                                                 \n",
            " block1_pool (MaxPooling2D)  (None, 112, 112, 64)      0         \n",
            "                                                                 \n",
            " block2_conv1 (Conv2D)       (None, 112, 112, 128)     73856     \n",
            "                                                                 \n",
            " block2_conv2 (Conv2D)       (None, 112, 112, 128)     147584    \n",
            "                                                                 \n",
            " block2_pool (MaxPooling2D)  (None, 56, 56, 128)       0         \n",
            "                                                                 \n",
            " block3_conv1 (Conv2D)       (None, 56, 56, 256)       295168    \n",
            "                                                                 \n",
            " block3_conv2 (Conv2D)       (None, 56, 56, 256)       590080    \n",
            "                                                                 \n",
            " block3_conv3 (Conv2D)       (None, 56, 56, 256)       590080    \n",
            "                                                                 \n",
            " block3_conv4 (Conv2D)       (None, 56, 56, 256)       590080    \n",
            "                                                                 \n",
            " block3_pool (MaxPooling2D)  (None, 28, 28, 256)       0         \n",
            "                                                                 \n",
            " block4_conv1 (Conv2D)       (None, 28, 28, 512)       1180160   \n",
            "                                                                 \n",
            " block4_conv2 (Conv2D)       (None, 28, 28, 512)       2359808   \n",
            "                                                                 \n",
            " block4_conv3 (Conv2D)       (None, 28, 28, 512)       2359808   \n",
            "                                                                 \n",
            " block4_conv4 (Conv2D)       (None, 28, 28, 512)       2359808   \n",
            "                                                                 \n",
            " block4_pool (MaxPooling2D)  (None, 14, 14, 512)       0         \n",
            "                                                                 \n",
            " block5_conv1 (Conv2D)       (None, 14, 14, 512)       2359808   \n",
            "                                                                 \n",
            " block5_conv2 (Conv2D)       (None, 14, 14, 512)       2359808   \n",
            "                                                                 \n",
            " block5_conv3 (Conv2D)       (None, 14, 14, 512)       2359808   \n",
            "                                                                 \n",
            " block5_conv4 (Conv2D)       (None, 14, 14, 512)       2359808   \n",
            "                                                                 \n",
            " block5_pool (MaxPooling2D)  (None, 7, 7, 512)         0         \n",
            "                                                                 \n",
            " flatten_1 (Flatten)         (None, 25088)             0         \n",
            "                                                                 \n",
            " dense_1 (Dense)             (None, 2)                 50178     \n",
            "                                                                 \n",
            "=================================================================\n",
            "Total params: 20074562 (76.58 MB)\n",
            "Trainable params: 50178 (196.01 KB)\n",
            "Non-trainable params: 20024384 (76.39 MB)\n",
            "_________________________________________________________________\n"
          ]
        }
      ]
    },
    {
      "cell_type": "code",
      "source": [
        "model.compile(\n",
        "  loss='sparse_categorical_crossentropy',\n",
        "  optimizer=\"adam\",\n",
        "  metrics=['accuracy']\n",
        ")"
      ],
      "metadata": {
        "id": "G4duX4M8LHkQ"
      },
      "execution_count": null,
      "outputs": []
    },
    {
      "cell_type": "code",
      "source": [
        "#Early stopping to avoid overfitting of model\n",
        "from tensorflow.keras.callbacks import EarlyStopping\n",
        "early_stop=EarlyStopping(monitor='val_loss',\n",
        "                         mode='min',\n",
        "                         verbose=1,\n",
        "                         patience=5)\n",
        "\n",
        "# fit the model\n",
        "history = model.fit(\n",
        "  x_train,\n",
        "  y_train,\n",
        "  validation_data=(x_val,y_val),\n",
        "  epochs=5,\n",
        "  callbacks=[early_stop],\n",
        "  batch_size=20,\n",
        "  shuffle=True)"
      ],
      "metadata": {
        "colab": {
          "base_uri": "https://localhost:8080/"
        },
        "id": "HfciVed2LNCc",
        "outputId": "08229830-290b-44e2-ffc5-6afccdac1091"
      },
      "execution_count": null,
      "outputs": [
        {
          "output_type": "stream",
          "name": "stdout",
          "text": [
            "Epoch 1/5\n",
            "15/15 [==============================] - 8s 155ms/step - loss: 1.2922 - accuracy: 0.5900 - val_loss: 0.9070 - val_accuracy: 0.5750\n",
            "Epoch 2/5\n",
            "15/15 [==============================] - 2s 135ms/step - loss: 0.4481 - accuracy: 0.8100 - val_loss: 0.3968 - val_accuracy: 0.8000\n",
            "Epoch 3/5\n",
            "15/15 [==============================] - 2s 134ms/step - loss: 0.2159 - accuracy: 0.9167 - val_loss: 0.5100 - val_accuracy: 0.7000\n",
            "Epoch 4/5\n",
            "15/15 [==============================] - 2s 143ms/step - loss: 0.1287 - accuracy: 0.9700 - val_loss: 0.4089 - val_accuracy: 0.8250\n",
            "Epoch 5/5\n",
            "15/15 [==============================] - 2s 136ms/step - loss: 0.0807 - accuracy: 0.9933 - val_loss: 0.3932 - val_accuracy: 0.8750\n"
          ]
        }
      ]
    },
    {
      "cell_type": "code",
      "source": [
        "# accuracies\n",
        "plt.plot(history.history['accuracy'], label='train acc')\n",
        "plt.plot(history.history['val_accuracy'], label='val acc')\n",
        "plt.legend()\n",
        "plt.show()\n",
        "plt.close()\n",
        "\n",
        "# loss\n",
        "plt.plot(history.history['loss'], label='train loss')\n",
        "plt.plot(history.history['val_loss'], label='val loss')\n",
        "plt.legend()\n",
        "plt.show()"
      ],
      "metadata": {
        "colab": {
          "base_uri": "https://localhost:8080/",
          "height": 843
        },
        "id": "CXRPWjisLWLz",
        "outputId": "de3fc5a5-5dd5-4888-9089-6c98e9d61321"
      },
      "execution_count": null,
      "outputs": [
        {
          "output_type": "display_data",
          "data": {
            "text/plain": [
              "<Figure size 640x480 with 1 Axes>"
            ],
            "image/png": "[encoded data removed]"
          },
          "metadata": {}
        },
        {
          "output_type": "display_data",
          "data": {
            "text/plain": [
              "<Figure size 640x480 with 1 Axes>"
            ],
            "image/png": "[encoded data removed]"
          },
          "metadata": {}
        }
      ]
    },
    {
      "cell_type": "code",
      "source": [
        "model.evaluate(x_test,\n",
        "               y_test,\n",
        "               batch_size=2)\n",
        "\n",
        "#predict\n",
        "y_pred=model.predict(x_test)\n",
        "y_pred=np.argmax(y_pred,axis=1)\n",
        "#get classification report\n",
        "print(classification_report(y_pred,y_test))"
      ],
      "metadata": {
        "colab": {
          "base_uri": "https://localhost:8080/"
        },
        "id": "2WeMNQwaLYqL",
        "outputId": "58eb2cfe-93c6-40fe-ed67-538b7bcb8492"
      },
      "execution_count": null,
      "outputs": [
        {
          "output_type": "stream",
          "name": "stdout",
          "text": [
            "17/17 [==============================] - 1s 25ms/step - loss: 1.1396 - accuracy: 0.5758\n",
            "2/2 [==============================] - 0s 128ms/step\n",
            "              precision    recall  f1-score   support\n",
            "\n",
            "           0       0.70      0.39      0.50        18\n",
            "           1       0.52      0.80      0.63        15\n",
            "\n",
            "    accuracy                           0.58        33\n",
            "   macro avg       0.61      0.59      0.57        33\n",
            "weighted avg       0.62      0.58      0.56        33\n",
            "\n"
          ]
        }
      ]
    },
    {
      "cell_type": "markdown",
      "source": [
        "# Text Data & CNNs"
      ],
      "metadata": {
        "id": "IUOVtXN1pOFo"
      }
    },
    {
      "cell_type": "code",
      "source": [],
      "metadata": {
        "id": "FLKpBpqJLbTk"
      },
      "execution_count": null,
      "outputs": []
    }
  ]
}